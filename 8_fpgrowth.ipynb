{
  "nbformat": 4,
  "nbformat_minor": 0,
  "metadata": {
    "colab": {
      "provenance": []
    },
    "kernelspec": {
      "name": "python3",
      "display_name": "Python 3"
    },
    "language_info": {
      "name": "python"
    }
  },
  "cells": [
    {
      "cell_type": "code",
      "execution_count": null,
      "metadata": {
        "colab": {
          "base_uri": "https://localhost:8080/"
        },
        "id": "GeNKMwb19_xI",
        "outputId": "320cfd8c-9b7e-4858-86b9-fc7735f11445"
      },
      "outputs": [
        {
          "output_type": "stream",
          "name": "stderr",
          "text": [
            "/usr/local/lib/python3.10/dist-packages/ipykernel/ipkernel.py:283: DeprecationWarning: `should_run_async` will not call `transform_cell` automatically in the future. Please pass the result to `transformed_cell` argument and any exception that happen during thetransform in `preprocessing_exc_tuple` in IPython 7.17 and above.\n",
            "  and should_run_async(code)\n"
          ]
        }
      ],
      "source": [
        "from mlxtend.preprocessing import TransactionEncoder\n",
        "from mlxtend.frequent_patterns import fpgrowth\n",
        "import pandas as pd"
      ]
    },
    {
      "cell_type": "code",
      "source": [
        "transaction = [['bread','butter','jam'],['bread','butter','bear'],['fruits','butter','bear'],['bread','butter','jam'],['butter','cheese','jam']]"
      ],
      "metadata": {
        "id": "dpNnaH---MQs"
      },
      "execution_count": 1,
      "outputs": []
    },
    {
      "cell_type": "code",
      "source": [
        "te = TransactionEncoder()\n",
        "te_ary = te.fit(transaction).transform(transaction)\n",
        "df = pd.DataFrame(te_ary,columns = te.columns_)"
      ],
      "metadata": {
        "colab": {
          "base_uri": "https://localhost:8080/"
        },
        "id": "D_t92Iu0-niL",
        "outputId": "09cae446-eb14-407d-be5f-9a2616a59501"
      },
      "execution_count": null,
      "outputs": [
        {
          "output_type": "stream",
          "name": "stderr",
          "text": [
            "/usr/local/lib/python3.10/dist-packages/ipykernel/ipkernel.py:283: DeprecationWarning: `should_run_async` will not call `transform_cell` automatically in the future. Please pass the result to `transformed_cell` argument and any exception that happen during thetransform in `preprocessing_exc_tuple` in IPython 7.17 and above.\n",
            "  and should_run_async(code)\n"
          ]
        }
      ]
    },
    {
      "cell_type": "code",
      "source": [
        "res = fpgrowth(df,min_support = 0.2,use_colnames = True)\n",
        "print(res)"
      ],
      "metadata": {
        "colab": {
          "base_uri": "https://localhost:8080/"
        },
        "id": "6oi9RQBL-6a6",
        "outputId": "426c4222-3b4d-4eca-95ce-c0a98f15d1bf"
      },
      "execution_count": null,
      "outputs": [
        {
          "output_type": "stream",
          "name": "stdout",
          "text": [
            "    support                itemsets\n",
            "0       1.0                (butter)\n",
            "1       0.6                   (jam)\n",
            "2       0.6                 (bread)\n",
            "3       0.4                  (bear)\n",
            "4       0.2                (fruits)\n",
            "5       0.2                (cheese)\n",
            "6       0.6           (jam, butter)\n",
            "7       0.6         (butter, bread)\n",
            "8       0.4            (jam, bread)\n",
            "9       0.4    (jam, butter, bread)\n",
            "10      0.4          (butter, bear)\n",
            "11      0.2           (bread, bear)\n",
            "12      0.2   (butter, bread, bear)\n",
            "13      0.2          (fruits, bear)\n",
            "14      0.2        (fruits, butter)\n",
            "15      0.2  (fruits, butter, bear)\n",
            "16      0.2           (jam, cheese)\n",
            "17      0.2        (butter, cheese)\n",
            "18      0.2   (jam, butter, cheese)\n"
          ]
        },
        {
          "output_type": "stream",
          "name": "stderr",
          "text": [
            "/usr/local/lib/python3.10/dist-packages/ipykernel/ipkernel.py:283: DeprecationWarning: `should_run_async` will not call `transform_cell` automatically in the future. Please pass the result to `transformed_cell` argument and any exception that happen during thetransform in `preprocessing_exc_tuple` in IPython 7.17 and above.\n",
            "  and should_run_async(code)\n"
          ]
        }
      ]
    }
  ]
}