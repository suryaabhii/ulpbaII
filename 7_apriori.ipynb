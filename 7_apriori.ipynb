{
  "nbformat": 4,
  "nbformat_minor": 0,
  "metadata": {
    "colab": {
      "provenance": []
    },
    "kernelspec": {
      "name": "python3",
      "display_name": "Python 3"
    },
    "language_info": {
      "name": "python"
    }
  },
  "cells": [
    {
      "cell_type": "code",
      "execution_count": null,
      "metadata": {
        "colab": {
          "base_uri": "https://localhost:8080/"
        },
        "id": "2RK_Rb7-3CvQ",
        "outputId": "b8bed75a-bc7b-495e-f794-1f6673c35c82"
      },
      "outputs": [
        {
          "output_type": "stream",
          "name": "stderr",
          "text": [
            "/usr/local/lib/python3.10/dist-packages/ipykernel/ipkernel.py:283: DeprecationWarning: `should_run_async` will not call `transform_cell` automatically in the future. Please pass the result to `transformed_cell` argument and any exception that happen during thetransform in `preprocessing_exc_tuple` in IPython 7.17 and above.\n",
            "  and should_run_async(code)\n"
          ]
        }
      ],
      "source": [
        "from mlxtend.preprocessing import TransactionEncoder\n",
        "from mlxtend.frequent_patterns import apriori\n",
        "import pandas as pd"
      ]
    },
    {
      "cell_type": "code",
      "source": [
        "transaction = [['bread','butter','jam'],['bread','butter','bear'],['fruits','butter','bear'],['bread','butter','jam'],['butter','cheese','jam']]"
      ],
      "metadata": {
        "colab": {
          "base_uri": "https://localhost:8080/"
        },
        "id": "oBqB5U8s547o",
        "outputId": "15cf70b6-e544-4c16-de45-3a42efec1758"
      },
      "execution_count": null,
      "outputs": [
        {
          "output_type": "stream",
          "name": "stderr",
          "text": [
            "/usr/local/lib/python3.10/dist-packages/ipykernel/ipkernel.py:283: DeprecationWarning: `should_run_async` will not call `transform_cell` automatically in the future. Please pass the result to `transformed_cell` argument and any exception that happen during thetransform in `preprocessing_exc_tuple` in IPython 7.17 and above.\n",
            "  and should_run_async(code)\n"
          ]
        }
      ]
    },
    {
      "cell_type": "code",
      "source": [
        "te = TransactionEncoder()\n",
        "te_ary = te.fit(transaction).transform(transaction)\n",
        "df = pd.DataFrame(te_ary,columns = te.columns_)"
      ],
      "metadata": {
        "colab": {
          "base_uri": "https://localhost:8080/"
        },
        "id": "LOJRDDSD6pTn",
        "outputId": "e5b6b816-4c6c-44e7-8616-4f64ddab42cf"
      },
      "execution_count": null,
      "outputs": [
        {
          "output_type": "stream",
          "name": "stderr",
          "text": [
            "/usr/local/lib/python3.10/dist-packages/ipykernel/ipkernel.py:283: DeprecationWarning: `should_run_async` will not call `transform_cell` automatically in the future. Please pass the result to `transformed_cell` argument and any exception that happen during thetransform in `preprocessing_exc_tuple` in IPython 7.17 and above.\n",
            "  and should_run_async(code)\n"
          ]
        }
      ]
    },
    {
      "cell_type": "code",
      "source": [
        "res = apriori(df,min_support = 0.2,use_colnames = True)\n",
        "\n",
        "print(res)"
      ],
      "metadata": {
        "colab": {
          "base_uri": "https://localhost:8080/"
        },
        "id": "6GhvH0as7rPm",
        "outputId": "4f611057-e677-481d-c533-736a97d7e674"
      },
      "execution_count": null,
      "outputs": [
        {
          "output_type": "stream",
          "name": "stdout",
          "text": [
            "    support   itemsets\n",
            "0       0.4        (0)\n",
            "1       0.6        (1)\n",
            "2       1.0        (2)\n",
            "3       0.2        (3)\n",
            "4       0.2        (4)\n",
            "5       0.6        (5)\n",
            "6       0.2     (0, 1)\n",
            "7       0.4     (0, 2)\n",
            "8       0.2     (0, 4)\n",
            "9       0.6     (1, 2)\n",
            "10      0.4     (1, 5)\n",
            "11      0.2     (2, 3)\n",
            "12      0.2     (2, 4)\n",
            "13      0.6     (2, 5)\n",
            "14      0.2     (3, 5)\n",
            "15      0.2  (0, 1, 2)\n",
            "16      0.2  (0, 2, 4)\n",
            "17      0.4  (1, 2, 5)\n",
            "18      0.2  (2, 3, 5)\n"
          ]
        },
        {
          "output_type": "stream",
          "name": "stderr",
          "text": [
            "/usr/local/lib/python3.10/dist-packages/ipykernel/ipkernel.py:283: DeprecationWarning: `should_run_async` will not call `transform_cell` automatically in the future. Please pass the result to `transformed_cell` argument and any exception that happen during thetransform in `preprocessing_exc_tuple` in IPython 7.17 and above.\n",
            "  and should_run_async(code)\n"
          ]
        }
      ]
    }
  ]
}